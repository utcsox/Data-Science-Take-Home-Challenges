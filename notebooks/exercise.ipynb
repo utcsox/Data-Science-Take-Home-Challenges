{
 "cells": [
  {
   "cell_type": "markdown",
   "metadata": {},
   "source": [
    "# Offline Exercise\n",
    "\n",
    "This notebook has the questions and instructions for the offline exercise. If you haven't already, please go through the `README.md` file before you begin answering the questions here.\n",
    "\n",
    "Make sure you do NOT commit your answers back to the repo. Instead, copy-paste this notebook together with the `touches.sqlite3` file to a separate folder in your machine, type your answers in that copied notebook, and when you're done, share the new Jupyter notebook back with the recruiter together with additional modules, graphs etc. that you may have. You would need to use the data in the `touches.sqlite3` file to answer all the questions."
   ]
  },
  {
   "cell_type": "code",
   "execution_count": 2,
   "metadata": {},
   "outputs": [],
   "source": [
    "import pandas as pd\n",
    "import sqlite3"
   ]
  },
  {
   "cell_type": "code",
   "execution_count": 17,
   "metadata": {},
   "outputs": [
    {
     "name": "stdout",
     "output_type": "stream",
     "text": [
      "Opened database successfully\n"
     ]
    }
   ],
   "source": [
    "conn = sqlite3.connect('touches.sqlite3')\n",
    "print('Opened database successfully')\n",
    "cursor = conn.execute(\"SELECT id, industry, size, location from companies\")"
   ]
  },
  {
   "cell_type": "code",
   "execution_count": 141,
   "metadata": {},
   "outputs": [],
   "source": [
    "companies = pd.read_sql(\"select * from companies\", conn)\n",
    "opportunities = pd.read_sql(\"select * from opportunities\", conn)\n",
    "persons = pd.read_sql(\"select * from persons\", conn)\n",
    "touches = pd.read_sql(\"select * from touches\", conn)\n",
    "touches['touch_scheduled_on'] = pd.to_datetime(touches.touch_scheduled_on)"
   ]
  },
  {
   "cell_type": "code",
   "execution_count": 22,
   "metadata": {},
   "outputs": [
    {
     "data": {
      "text/html": [
       "<div>\n",
       "<style scoped>\n",
       "    .dataframe tbody tr th:only-of-type {\n",
       "        vertical-align: middle;\n",
       "    }\n",
       "\n",
       "    .dataframe tbody tr th {\n",
       "        vertical-align: top;\n",
       "    }\n",
       "\n",
       "    .dataframe thead th {\n",
       "        text-align: right;\n",
       "    }\n",
       "</style>\n",
       "<table border=\"1\" class=\"dataframe\">\n",
       "  <thead>\n",
       "    <tr style=\"text-align: right;\">\n",
       "      <th></th>\n",
       "      <th>id</th>\n",
       "      <th>industry</th>\n",
       "      <th>size</th>\n",
       "      <th>location</th>\n",
       "    </tr>\n",
       "  </thead>\n",
       "  <tbody>\n",
       "    <tr>\n",
       "      <th>0</th>\n",
       "      <td>1</td>\n",
       "      <td>Diversified Telecommunication Services</td>\n",
       "      <td>51-200 employees</td>\n",
       "      <td>US/Eastern</td>\n",
       "    </tr>\n",
       "    <tr>\n",
       "      <th>1</th>\n",
       "      <td>2</td>\n",
       "      <td>Internet Software &amp; Services</td>\n",
       "      <td>51-200 employees</td>\n",
       "      <td>US/Mountain</td>\n",
       "    </tr>\n",
       "    <tr>\n",
       "      <th>2</th>\n",
       "      <td>4</td>\n",
       "      <td>Internet Software &amp; Services</td>\n",
       "      <td></td>\n",
       "      <td>US/Pacific</td>\n",
       "    </tr>\n",
       "    <tr>\n",
       "      <th>3</th>\n",
       "      <td>6</td>\n",
       "      <td>Diversified Financial Services</td>\n",
       "      <td>11-50 employees</td>\n",
       "      <td>US/Pacific</td>\n",
       "    </tr>\n",
       "    <tr>\n",
       "      <th>4</th>\n",
       "      <td>8</td>\n",
       "      <td>Telecommunications</td>\n",
       "      <td></td>\n",
       "      <td>US/Eastern</td>\n",
       "    </tr>\n",
       "  </tbody>\n",
       "</table>\n",
       "</div>"
      ],
      "text/plain": [
       "   id                                industry              size     location\n",
       "0   1  Diversified Telecommunication Services  51-200 employees   US/Eastern\n",
       "1   2            Internet Software & Services  51-200 employees  US/Mountain\n",
       "2   4            Internet Software & Services                     US/Pacific\n",
       "3   6          Diversified Financial Services   11-50 employees   US/Pacific\n",
       "4   8                      Telecommunications                     US/Eastern"
      ]
     },
     "execution_count": 22,
     "metadata": {},
     "output_type": "execute_result"
    }
   ],
   "source": [
    "companies.head()"
   ]
  },
  {
   "cell_type": "code",
   "execution_count": 23,
   "metadata": {},
   "outputs": [
    {
     "data": {
      "text/html": [
       "<div>\n",
       "<style scoped>\n",
       "    .dataframe tbody tr th:only-of-type {\n",
       "        vertical-align: middle;\n",
       "    }\n",
       "\n",
       "    .dataframe tbody tr th {\n",
       "        vertical-align: top;\n",
       "    }\n",
       "\n",
       "    .dataframe thead th {\n",
       "        text-align: right;\n",
       "    }\n",
       "</style>\n",
       "<table border=\"1\" class=\"dataframe\">\n",
       "  <thead>\n",
       "    <tr style=\"text-align: right;\">\n",
       "      <th></th>\n",
       "      <th>id</th>\n",
       "      <th>company_id</th>\n",
       "      <th>created_at</th>\n",
       "      <th>latest_stage</th>\n",
       "    </tr>\n",
       "  </thead>\n",
       "  <tbody>\n",
       "    <tr>\n",
       "      <th>0</th>\n",
       "      <td>1</td>\n",
       "      <td>3633</td>\n",
       "      <td>2018-01-01 20:38:03.267059</td>\n",
       "      <td>Closed Lost</td>\n",
       "    </tr>\n",
       "    <tr>\n",
       "      <th>1</th>\n",
       "      <td>3</td>\n",
       "      <td>5639</td>\n",
       "      <td>2018-01-01 20:38:03.316160</td>\n",
       "      <td>Closed Lost</td>\n",
       "    </tr>\n",
       "    <tr>\n",
       "      <th>2</th>\n",
       "      <td>4</td>\n",
       "      <td>886</td>\n",
       "      <td>2018-01-01 20:38:03.334316</td>\n",
       "      <td>Closed Lost</td>\n",
       "    </tr>\n",
       "    <tr>\n",
       "      <th>3</th>\n",
       "      <td>5</td>\n",
       "      <td>588</td>\n",
       "      <td>2018-01-01 20:38:03.343280</td>\n",
       "      <td>Closed Lost</td>\n",
       "    </tr>\n",
       "    <tr>\n",
       "      <th>4</th>\n",
       "      <td>6</td>\n",
       "      <td>4798</td>\n",
       "      <td>2018-01-01 20:38:03.346662</td>\n",
       "      <td>Closed Lost</td>\n",
       "    </tr>\n",
       "  </tbody>\n",
       "</table>\n",
       "</div>"
      ],
      "text/plain": [
       "   id  company_id                  created_at latest_stage\n",
       "0   1        3633  2018-01-01 20:38:03.267059  Closed Lost\n",
       "1   3        5639  2018-01-01 20:38:03.316160  Closed Lost\n",
       "2   4         886  2018-01-01 20:38:03.334316  Closed Lost\n",
       "3   5         588  2018-01-01 20:38:03.343280  Closed Lost\n",
       "4   6        4798  2018-01-01 20:38:03.346662  Closed Lost"
      ]
     },
     "execution_count": 23,
     "metadata": {},
     "output_type": "execute_result"
    }
   ],
   "source": [
    "opportunities.head()"
   ]
  },
  {
   "cell_type": "code",
   "execution_count": 24,
   "metadata": {},
   "outputs": [
    {
     "data": {
      "text/html": [
       "<div>\n",
       "<style scoped>\n",
       "    .dataframe tbody tr th:only-of-type {\n",
       "        vertical-align: middle;\n",
       "    }\n",
       "\n",
       "    .dataframe tbody tr th {\n",
       "        vertical-align: top;\n",
       "    }\n",
       "\n",
       "    .dataframe thead th {\n",
       "        text-align: right;\n",
       "    }\n",
       "</style>\n",
       "<table border=\"1\" class=\"dataframe\">\n",
       "  <thead>\n",
       "    <tr style=\"text-align: right;\">\n",
       "      <th></th>\n",
       "      <th>id</th>\n",
       "      <th>company_id</th>\n",
       "      <th>job_seniority</th>\n",
       "    </tr>\n",
       "  </thead>\n",
       "  <tbody>\n",
       "    <tr>\n",
       "      <th>0</th>\n",
       "      <td>61</td>\n",
       "      <td>1</td>\n",
       "      <td>Vice President</td>\n",
       "    </tr>\n",
       "    <tr>\n",
       "      <th>1</th>\n",
       "      <td>62</td>\n",
       "      <td>1</td>\n",
       "      <td>Manager</td>\n",
       "    </tr>\n",
       "    <tr>\n",
       "      <th>2</th>\n",
       "      <td>63</td>\n",
       "      <td>1</td>\n",
       "      <td>Executive</td>\n",
       "    </tr>\n",
       "    <tr>\n",
       "      <th>3</th>\n",
       "      <td>64</td>\n",
       "      <td>1</td>\n",
       "      <td>Director</td>\n",
       "    </tr>\n",
       "    <tr>\n",
       "      <th>4</th>\n",
       "      <td>65</td>\n",
       "      <td>1</td>\n",
       "      <td>Individual Contributor</td>\n",
       "    </tr>\n",
       "  </tbody>\n",
       "</table>\n",
       "</div>"
      ],
      "text/plain": [
       "   id  company_id           job_seniority\n",
       "0  61           1          Vice President\n",
       "1  62           1                 Manager\n",
       "2  63           1               Executive\n",
       "3  64           1                Director\n",
       "4  65           1  Individual Contributor"
      ]
     },
     "execution_count": 24,
     "metadata": {},
     "output_type": "execute_result"
    }
   ],
   "source": [
    "persons.head()"
   ]
  },
  {
   "cell_type": "code",
   "execution_count": 45,
   "metadata": {},
   "outputs": [
    {
     "data": {
      "text/html": [
       "<div>\n",
       "<style scoped>\n",
       "    .dataframe tbody tr th:only-of-type {\n",
       "        vertical-align: middle;\n",
       "    }\n",
       "\n",
       "    .dataframe tbody tr th {\n",
       "        vertical-align: top;\n",
       "    }\n",
       "\n",
       "    .dataframe thead th {\n",
       "        text-align: right;\n",
       "    }\n",
       "</style>\n",
       "<table border=\"1\" class=\"dataframe\">\n",
       "  <thead>\n",
       "    <tr style=\"text-align: right;\">\n",
       "      <th></th>\n",
       "      <th>id</th>\n",
       "      <th>person_id</th>\n",
       "      <th>touch_scheduled_on</th>\n",
       "      <th>status</th>\n",
       "      <th>touch_type</th>\n",
       "    </tr>\n",
       "  </thead>\n",
       "  <tbody>\n",
       "    <tr>\n",
       "      <th>0</th>\n",
       "      <td>166087</td>\n",
       "      <td>127117</td>\n",
       "      <td>2017-06-01</td>\n",
       "      <td>completed</td>\n",
       "      <td>Phone</td>\n",
       "    </tr>\n",
       "    <tr>\n",
       "      <th>1</th>\n",
       "      <td>166088</td>\n",
       "      <td>108969</td>\n",
       "      <td>2017-06-01</td>\n",
       "      <td>completed</td>\n",
       "      <td>Other</td>\n",
       "    </tr>\n",
       "    <tr>\n",
       "      <th>2</th>\n",
       "      <td>166089</td>\n",
       "      <td>107761</td>\n",
       "      <td>2017-06-01</td>\n",
       "      <td>completed</td>\n",
       "      <td>Phone</td>\n",
       "    </tr>\n",
       "    <tr>\n",
       "      <th>3</th>\n",
       "      <td>166091</td>\n",
       "      <td>77118</td>\n",
       "      <td>2017-06-01</td>\n",
       "      <td>completed</td>\n",
       "      <td>Other</td>\n",
       "    </tr>\n",
       "    <tr>\n",
       "      <th>4</th>\n",
       "      <td>166093</td>\n",
       "      <td>106696</td>\n",
       "      <td>2017-06-01</td>\n",
       "      <td>completed</td>\n",
       "      <td>Other</td>\n",
       "    </tr>\n",
       "  </tbody>\n",
       "</table>\n",
       "</div>"
      ],
      "text/plain": [
       "       id  person_id touch_scheduled_on     status touch_type\n",
       "0  166087     127117         2017-06-01  completed      Phone\n",
       "1  166088     108969         2017-06-01  completed      Other\n",
       "2  166089     107761         2017-06-01  completed      Phone\n",
       "3  166091      77118         2017-06-01  completed      Other\n",
       "4  166093     106696         2017-06-01  completed      Other"
      ]
     },
     "execution_count": 45,
     "metadata": {},
     "output_type": "execute_result"
    }
   ],
   "source": [
    "touches.head()"
   ]
  },
  {
   "cell_type": "markdown",
   "metadata": {},
   "source": [
    "### Question 1. Find the most common industry out of all the companies that were `contacted`."
   ]
  },
  {
   "cell_type": "code",
   "execution_count": 130,
   "metadata": {},
   "outputs": [
    {
     "name": "stdout",
     "output_type": "stream",
     "text": [
      "The most common industry out of all the companies that were contacted: Internet Software & Services\n"
     ]
    }
   ],
   "source": [
    "# step 1: filter touches table by status = completed\n",
    "# step 2: inner join touches_completed table with persons table on person_id\n",
    "# step 3: inner join touches_completed_person table with companies table on id\n",
    "# touches_completed = touches[touches['status'] == 'completed']\n",
    "\n",
    "# touches_completed_persons = pd.merge(touches_completed, persons, left_on = 'person_id', right_on ='id')\n",
    "# touches_completed_persons.drop(['id_x', 'id_y'], axis = 1, inplace=True)\n",
    "\n",
    "# touches_completed_persons_companies = pd.merge(touches_completed_persons, companies, left_on = 'company_id', right_on ='id')\n",
    "# touches_completed_persons_companies.drop(['id'], axis = 1, inplace=True)\n",
    "\n",
    "company_industry = touches_completed_persons_companies[['company_id', 'industry']]\n",
    "unique_company_industry = company_industry.drop_duplicates()\n",
    "\n",
    "#print(unique_company_industry[unique_company_industry['industry'] == 'Internet Software & Services'].shape)\n",
    "\n",
    "answer = unique_company_industry.groupby('industry').count().sort_values('company_id').iloc[-1, :].name\n",
    "\n",
    "print(f'The most common industry out of all the companies that were contacted: {answer}')\n",
    "\n",
    "\n",
    "\n"
   ]
  },
  {
   "cell_type": "markdown",
   "metadata": {},
   "source": [
    "### Question 2. What is the most common touch type sellers use when they’re making their first touch with a person? What about first touch with a company?"
   ]
  },
  {
   "cell_type": "code",
   "execution_count": 167,
   "metadata": {},
   "outputs": [
    {
     "name": "stdout",
     "output_type": "stream",
     "text": [
      "Sellers use Other method when they are making their first touch with a person\n"
     ]
    }
   ],
   "source": [
    "touches_users_earliest_date = touches.loc[touches.groupby('person_id').touch_scheduled_on.idxmin()]\n",
    "most_first_touch_by_person = touches_users_earliest_date.groupby('touch_type').count().loc[:, 'id'].idxmax()\n",
    "print(f'Sellers use {most_first_touch_by_person} method when they are making their first touch with a person')"
   ]
  },
  {
   "cell_type": "code",
   "execution_count": 163,
   "metadata": {},
   "outputs": [
    {
     "data": {
      "text/plain": [
       "'Other'"
      ]
     },
     "execution_count": 163,
     "metadata": {},
     "output_type": "execute_result"
    }
   ],
   "source": [
    "(touches_users_earliest_date.groupby('touch_type').count()).loc[:, 'id'].idxmax()\n"
   ]
  },
  {
   "cell_type": "code",
   "execution_count": 146,
   "metadata": {},
   "outputs": [
    {
     "data": {
      "text/html": [
       "<div>\n",
       "<style scoped>\n",
       "    .dataframe tbody tr th:only-of-type {\n",
       "        vertical-align: middle;\n",
       "    }\n",
       "\n",
       "    .dataframe tbody tr th {\n",
       "        vertical-align: top;\n",
       "    }\n",
       "\n",
       "    .dataframe thead th {\n",
       "        text-align: right;\n",
       "    }\n",
       "</style>\n",
       "<table border=\"1\" class=\"dataframe\">\n",
       "  <thead>\n",
       "    <tr style=\"text-align: right;\">\n",
       "      <th></th>\n",
       "      <th>id</th>\n",
       "      <th>person_id</th>\n",
       "      <th>touch_scheduled_on</th>\n",
       "      <th>status</th>\n",
       "      <th>touch_type</th>\n",
       "    </tr>\n",
       "  </thead>\n",
       "  <tbody>\n",
       "    <tr>\n",
       "      <th>335188</th>\n",
       "      <td>614121</td>\n",
       "      <td>64</td>\n",
       "      <td>2018-09-11</td>\n",
       "      <td>completed</td>\n",
       "      <td>Email</td>\n",
       "    </tr>\n",
       "    <tr>\n",
       "      <th>350</th>\n",
       "      <td>166558</td>\n",
       "      <td>66</td>\n",
       "      <td>2017-06-01</td>\n",
       "      <td>completed</td>\n",
       "      <td>Phone</td>\n",
       "    </tr>\n",
       "    <tr>\n",
       "      <th>224</th>\n",
       "      <td>166380</td>\n",
       "      <td>82</td>\n",
       "      <td>2017-06-01</td>\n",
       "      <td>completed</td>\n",
       "      <td>Phone</td>\n",
       "    </tr>\n",
       "    <tr>\n",
       "      <th>7340</th>\n",
       "      <td>176348</td>\n",
       "      <td>84</td>\n",
       "      <td>2017-06-15</td>\n",
       "      <td>completed</td>\n",
       "      <td>Email</td>\n",
       "    </tr>\n",
       "    <tr>\n",
       "      <th>367714</th>\n",
       "      <td>656192</td>\n",
       "      <td>88</td>\n",
       "      <td>2018-10-03</td>\n",
       "      <td>completed</td>\n",
       "      <td>Other</td>\n",
       "    </tr>\n",
       "    <tr>\n",
       "      <th>...</th>\n",
       "      <td>...</td>\n",
       "      <td>...</td>\n",
       "      <td>...</td>\n",
       "      <td>...</td>\n",
       "      <td>...</td>\n",
       "    </tr>\n",
       "    <tr>\n",
       "      <th>322001</th>\n",
       "      <td>597161</td>\n",
       "      <td>235418</td>\n",
       "      <td>2018-08-31</td>\n",
       "      <td>completed</td>\n",
       "      <td>Email</td>\n",
       "    </tr>\n",
       "    <tr>\n",
       "      <th>345038</th>\n",
       "      <td>626983</td>\n",
       "      <td>235419</td>\n",
       "      <td>2018-09-18</td>\n",
       "      <td>completed</td>\n",
       "      <td>Email</td>\n",
       "    </tr>\n",
       "    <tr>\n",
       "      <th>344884</th>\n",
       "      <td>626792</td>\n",
       "      <td>235422</td>\n",
       "      <td>2018-09-18</td>\n",
       "      <td>completed</td>\n",
       "      <td>Email</td>\n",
       "    </tr>\n",
       "    <tr>\n",
       "      <th>1605</th>\n",
       "      <td>168292</td>\n",
       "      <td>235423</td>\n",
       "      <td>2017-06-05</td>\n",
       "      <td>completed</td>\n",
       "      <td>Email</td>\n",
       "    </tr>\n",
       "    <tr>\n",
       "      <th>203475</th>\n",
       "      <td>444463</td>\n",
       "      <td>235424</td>\n",
       "      <td>2018-05-02</td>\n",
       "      <td>completed</td>\n",
       "      <td>Other</td>\n",
       "    </tr>\n",
       "  </tbody>\n",
       "</table>\n",
       "<p>61035 rows × 5 columns</p>\n",
       "</div>"
      ],
      "text/plain": [
       "            id  person_id touch_scheduled_on     status touch_type\n",
       "335188  614121         64         2018-09-11  completed      Email\n",
       "350     166558         66         2017-06-01  completed      Phone\n",
       "224     166380         82         2017-06-01  completed      Phone\n",
       "7340    176348         84         2017-06-15  completed      Email\n",
       "367714  656192         88         2018-10-03  completed      Other\n",
       "...        ...        ...                ...        ...        ...\n",
       "322001  597161     235418         2018-08-31  completed      Email\n",
       "345038  626983     235419         2018-09-18  completed      Email\n",
       "344884  626792     235422         2018-09-18  completed      Email\n",
       "1605    168292     235423         2017-06-05  completed      Email\n",
       "203475  444463     235424         2018-05-02  completed      Other\n",
       "\n",
       "[61035 rows x 5 columns]"
      ]
     },
     "execution_count": 146,
     "metadata": {},
     "output_type": "execute_result"
    }
   ],
   "source": [
    "touches.loc[touches.groupby('person_id').touch_scheduled_on.idxmin()]"
   ]
  },
  {
   "cell_type": "code",
   "execution_count": null,
   "metadata": {},
   "outputs": [],
   "source": []
  },
  {
   "cell_type": "markdown",
   "metadata": {},
   "source": [
    "### Question 3. Describe the distribution of the job seniorities of people that a seller will first try to contact within a company.\n",
    "\n",
    "To answer this question, you may use visuals, graphs, bunch of scores, tables, writeups - whatever you want. We literally want you to \"describe\" the distribution to us in the best way you can!\n",
    "\n",
    "(Note: this question doesn't really have one right answer. It's more about your style of communicating the results.)"
   ]
  },
  {
   "cell_type": "code",
   "execution_count": null,
   "metadata": {},
   "outputs": [],
   "source": []
  },
  {
   "cell_type": "code",
   "execution_count": null,
   "metadata": {},
   "outputs": [],
   "source": []
  },
  {
   "cell_type": "code",
   "execution_count": null,
   "metadata": {},
   "outputs": [],
   "source": []
  },
  {
   "cell_type": "markdown",
   "metadata": {},
   "source": [
    "### Question 4. Describe the distribution of the mixture of job seniorities of people that a seller will touch during the entire engagement with a company.\n",
    "Keep in mind that you get to decide what “mixture” means, so do begin your answer by defining it - and explaining why you think this definition makes sense. Again, feel free to use whatever visuals, graphs, bunch of scores, tables, writeups etc. that you think is appropriate for this question.\n",
    "\n",
    "(Note: this question doesn't really have one right answer. It's more about your style of communicating the results.)"
   ]
  },
  {
   "cell_type": "code",
   "execution_count": null,
   "metadata": {},
   "outputs": [],
   "source": []
  },
  {
   "cell_type": "code",
   "execution_count": null,
   "metadata": {},
   "outputs": [],
   "source": []
  },
  {
   "cell_type": "code",
   "execution_count": null,
   "metadata": {},
   "outputs": [],
   "source": []
  },
  {
   "cell_type": "markdown",
   "metadata": {},
   "source": [
    "### Question 5. Build an algorithm that, when a seller is about to contact a company it never reached out to before, recommends the best/optimal mixture of job seniorities (with “mixture” as defined by you in Question 4.) they should be targeting within that company during the entire engagement.\n",
    "\n",
    "This is the hardest question in this exercise. If you feel you have a good idea what the algorithm should look like but either feel uncomfortable coding-wise or feel pressed for time, it is perfectly OK to describe your idea in words. Be clear, explain both what it does and why you think this is the right approach.\n",
    "\n",
    "Whether or not you go the code-route or writeup-route, be sure to explain the assumptions and choices you made, why you made them and how you would test them.\n",
    "\n",
    "(Note: like with the previous two questions, this question doesn't really have one right answer either!)"
   ]
  },
  {
   "cell_type": "code",
   "execution_count": null,
   "metadata": {},
   "outputs": [],
   "source": []
  },
  {
   "cell_type": "code",
   "execution_count": null,
   "metadata": {},
   "outputs": [],
   "source": []
  },
  {
   "cell_type": "code",
   "execution_count": null,
   "metadata": {},
   "outputs": [],
   "source": []
  }
 ],
 "metadata": {
  "kernelspec": {
   "display_name": "Python 3",
   "language": "python",
   "name": "python3"
  },
  "language_info": {
   "codemirror_mode": {
    "name": "ipython",
    "version": 3
   },
   "file_extension": ".py",
   "mimetype": "text/x-python",
   "name": "python",
   "nbconvert_exporter": "python",
   "pygments_lexer": "ipython3",
   "version": "3.7.6"
  }
 },
 "nbformat": 4,
 "nbformat_minor": 2
}
