{
 "cells": [
  {
   "cell_type": "markdown",
   "metadata": {},
   "source": [
    "# Offline Exercise\n",
    "\n",
    "This notebook has the questions and instructions for the offline exercise. If you haven't already, please go through the `README.md` file before you begin answering the questions here.\n",
    "\n",
    "Make sure you do NOT commit your answers back to the repo. Instead, copy-paste this notebook together with the `touches.sqlite3` file to a separate folder in your machine, type your answers in that copied notebook, and when you're done, share the new Jupyter notebook back with the recruiter together with additional modules, graphs etc. that you may have. You would need to use the data in the `touches.sqlite3` file to answer all the questions."
   ]
  },
  {
   "cell_type": "code",
   "execution_count": 73,
   "metadata": {},
   "outputs": [],
   "source": [
    "import numpy as np\n",
    "import pandas as pd\n",
    "import sklearn\n",
    "import sqlite3"
   ]
  },
  {
   "cell_type": "code",
   "execution_count": 74,
   "metadata": {},
   "outputs": [
    {
     "name": "stdout",
     "output_type": "stream",
     "text": [
      "Opened database successfully\n"
     ]
    }
   ],
   "source": [
    "conn = sqlite3.connect('touches.sqlite3')\n",
    "print('Opened database successfully')\n",
    "cursor = conn.execute(\"SELECT id, industry, size, location from companies\")"
   ]
  },
  {
   "cell_type": "code",
   "execution_count": 75,
   "metadata": {},
   "outputs": [],
   "source": [
    "companies = pd.read_sql(\"select * from companies\", conn)\n",
    "opportunities = pd.read_sql(\"select * from opportunities\", conn)\n",
    "persons = pd.read_sql(\"select * from persons\", conn)\n",
    "touches = pd.read_sql(\"select * from touches\", conn)\n",
    "touches['touch_scheduled_on'] = pd.to_datetime(touches.touch_scheduled_on)"
   ]
  },
  {
   "cell_type": "code",
   "execution_count": 76,
   "metadata": {},
   "outputs": [
    {
     "data": {
      "text/html": [
       "<div>\n",
       "<style scoped>\n",
       "    .dataframe tbody tr th:only-of-type {\n",
       "        vertical-align: middle;\n",
       "    }\n",
       "\n",
       "    .dataframe tbody tr th {\n",
       "        vertical-align: top;\n",
       "    }\n",
       "\n",
       "    .dataframe thead th {\n",
       "        text-align: right;\n",
       "    }\n",
       "</style>\n",
       "<table border=\"1\" class=\"dataframe\">\n",
       "  <thead>\n",
       "    <tr style=\"text-align: right;\">\n",
       "      <th></th>\n",
       "      <th>id</th>\n",
       "      <th>industry</th>\n",
       "      <th>size</th>\n",
       "      <th>location</th>\n",
       "    </tr>\n",
       "  </thead>\n",
       "  <tbody>\n",
       "    <tr>\n",
       "      <th>0</th>\n",
       "      <td>1</td>\n",
       "      <td>Diversified Telecommunication Services</td>\n",
       "      <td>51-200 employees</td>\n",
       "      <td>US/Eastern</td>\n",
       "    </tr>\n",
       "    <tr>\n",
       "      <th>1</th>\n",
       "      <td>2</td>\n",
       "      <td>Internet Software &amp; Services</td>\n",
       "      <td>51-200 employees</td>\n",
       "      <td>US/Mountain</td>\n",
       "    </tr>\n",
       "    <tr>\n",
       "      <th>2</th>\n",
       "      <td>4</td>\n",
       "      <td>Internet Software &amp; Services</td>\n",
       "      <td></td>\n",
       "      <td>US/Pacific</td>\n",
       "    </tr>\n",
       "    <tr>\n",
       "      <th>3</th>\n",
       "      <td>6</td>\n",
       "      <td>Diversified Financial Services</td>\n",
       "      <td>11-50 employees</td>\n",
       "      <td>US/Pacific</td>\n",
       "    </tr>\n",
       "    <tr>\n",
       "      <th>4</th>\n",
       "      <td>8</td>\n",
       "      <td>Telecommunications</td>\n",
       "      <td></td>\n",
       "      <td>US/Eastern</td>\n",
       "    </tr>\n",
       "  </tbody>\n",
       "</table>\n",
       "</div>"
      ],
      "text/plain": [
       "   id                                industry              size     location\n",
       "0   1  Diversified Telecommunication Services  51-200 employees   US/Eastern\n",
       "1   2            Internet Software & Services  51-200 employees  US/Mountain\n",
       "2   4            Internet Software & Services                     US/Pacific\n",
       "3   6          Diversified Financial Services   11-50 employees   US/Pacific\n",
       "4   8                      Telecommunications                     US/Eastern"
      ]
     },
     "execution_count": 76,
     "metadata": {},
     "output_type": "execute_result"
    }
   ],
   "source": [
    "companies.head()"
   ]
  },
  {
   "cell_type": "code",
   "execution_count": 77,
   "metadata": {},
   "outputs": [
    {
     "data": {
      "text/html": [
       "<div>\n",
       "<style scoped>\n",
       "    .dataframe tbody tr th:only-of-type {\n",
       "        vertical-align: middle;\n",
       "    }\n",
       "\n",
       "    .dataframe tbody tr th {\n",
       "        vertical-align: top;\n",
       "    }\n",
       "\n",
       "    .dataframe thead th {\n",
       "        text-align: right;\n",
       "    }\n",
       "</style>\n",
       "<table border=\"1\" class=\"dataframe\">\n",
       "  <thead>\n",
       "    <tr style=\"text-align: right;\">\n",
       "      <th></th>\n",
       "      <th>id</th>\n",
       "      <th>company_id</th>\n",
       "      <th>created_at</th>\n",
       "      <th>latest_stage</th>\n",
       "    </tr>\n",
       "  </thead>\n",
       "  <tbody>\n",
       "    <tr>\n",
       "      <th>0</th>\n",
       "      <td>1</td>\n",
       "      <td>3633</td>\n",
       "      <td>2018-01-01 20:38:03.267059</td>\n",
       "      <td>Closed Lost</td>\n",
       "    </tr>\n",
       "    <tr>\n",
       "      <th>1</th>\n",
       "      <td>3</td>\n",
       "      <td>5639</td>\n",
       "      <td>2018-01-01 20:38:03.316160</td>\n",
       "      <td>Closed Lost</td>\n",
       "    </tr>\n",
       "    <tr>\n",
       "      <th>2</th>\n",
       "      <td>4</td>\n",
       "      <td>886</td>\n",
       "      <td>2018-01-01 20:38:03.334316</td>\n",
       "      <td>Closed Lost</td>\n",
       "    </tr>\n",
       "    <tr>\n",
       "      <th>3</th>\n",
       "      <td>5</td>\n",
       "      <td>588</td>\n",
       "      <td>2018-01-01 20:38:03.343280</td>\n",
       "      <td>Closed Lost</td>\n",
       "    </tr>\n",
       "    <tr>\n",
       "      <th>4</th>\n",
       "      <td>6</td>\n",
       "      <td>4798</td>\n",
       "      <td>2018-01-01 20:38:03.346662</td>\n",
       "      <td>Closed Lost</td>\n",
       "    </tr>\n",
       "  </tbody>\n",
       "</table>\n",
       "</div>"
      ],
      "text/plain": [
       "   id  company_id                  created_at latest_stage\n",
       "0   1        3633  2018-01-01 20:38:03.267059  Closed Lost\n",
       "1   3        5639  2018-01-01 20:38:03.316160  Closed Lost\n",
       "2   4         886  2018-01-01 20:38:03.334316  Closed Lost\n",
       "3   5         588  2018-01-01 20:38:03.343280  Closed Lost\n",
       "4   6        4798  2018-01-01 20:38:03.346662  Closed Lost"
      ]
     },
     "execution_count": 77,
     "metadata": {},
     "output_type": "execute_result"
    }
   ],
   "source": [
    "opportunities.head()"
   ]
  },
  {
   "cell_type": "code",
   "execution_count": 78,
   "metadata": {},
   "outputs": [
    {
     "data": {
      "text/html": [
       "<div>\n",
       "<style scoped>\n",
       "    .dataframe tbody tr th:only-of-type {\n",
       "        vertical-align: middle;\n",
       "    }\n",
       "\n",
       "    .dataframe tbody tr th {\n",
       "        vertical-align: top;\n",
       "    }\n",
       "\n",
       "    .dataframe thead th {\n",
       "        text-align: right;\n",
       "    }\n",
       "</style>\n",
       "<table border=\"1\" class=\"dataframe\">\n",
       "  <thead>\n",
       "    <tr style=\"text-align: right;\">\n",
       "      <th></th>\n",
       "      <th>id</th>\n",
       "      <th>company_id</th>\n",
       "      <th>job_seniority</th>\n",
       "    </tr>\n",
       "  </thead>\n",
       "  <tbody>\n",
       "    <tr>\n",
       "      <th>0</th>\n",
       "      <td>61</td>\n",
       "      <td>1</td>\n",
       "      <td>Vice President</td>\n",
       "    </tr>\n",
       "    <tr>\n",
       "      <th>1</th>\n",
       "      <td>62</td>\n",
       "      <td>1</td>\n",
       "      <td>Manager</td>\n",
       "    </tr>\n",
       "    <tr>\n",
       "      <th>2</th>\n",
       "      <td>63</td>\n",
       "      <td>1</td>\n",
       "      <td>Executive</td>\n",
       "    </tr>\n",
       "    <tr>\n",
       "      <th>3</th>\n",
       "      <td>64</td>\n",
       "      <td>1</td>\n",
       "      <td>Director</td>\n",
       "    </tr>\n",
       "    <tr>\n",
       "      <th>4</th>\n",
       "      <td>65</td>\n",
       "      <td>1</td>\n",
       "      <td>Individual Contributor</td>\n",
       "    </tr>\n",
       "  </tbody>\n",
       "</table>\n",
       "</div>"
      ],
      "text/plain": [
       "   id  company_id           job_seniority\n",
       "0  61           1          Vice President\n",
       "1  62           1                 Manager\n",
       "2  63           1               Executive\n",
       "3  64           1                Director\n",
       "4  65           1  Individual Contributor"
      ]
     },
     "execution_count": 78,
     "metadata": {},
     "output_type": "execute_result"
    }
   ],
   "source": [
    "persons.head()"
   ]
  },
  {
   "cell_type": "code",
   "execution_count": 79,
   "metadata": {},
   "outputs": [
    {
     "data": {
      "text/html": [
       "<div>\n",
       "<style scoped>\n",
       "    .dataframe tbody tr th:only-of-type {\n",
       "        vertical-align: middle;\n",
       "    }\n",
       "\n",
       "    .dataframe tbody tr th {\n",
       "        vertical-align: top;\n",
       "    }\n",
       "\n",
       "    .dataframe thead th {\n",
       "        text-align: right;\n",
       "    }\n",
       "</style>\n",
       "<table border=\"1\" class=\"dataframe\">\n",
       "  <thead>\n",
       "    <tr style=\"text-align: right;\">\n",
       "      <th></th>\n",
       "      <th>id</th>\n",
       "      <th>person_id</th>\n",
       "      <th>touch_scheduled_on</th>\n",
       "      <th>status</th>\n",
       "      <th>touch_type</th>\n",
       "    </tr>\n",
       "  </thead>\n",
       "  <tbody>\n",
       "    <tr>\n",
       "      <th>0</th>\n",
       "      <td>166087</td>\n",
       "      <td>127117</td>\n",
       "      <td>2017-06-01</td>\n",
       "      <td>completed</td>\n",
       "      <td>Phone</td>\n",
       "    </tr>\n",
       "    <tr>\n",
       "      <th>1</th>\n",
       "      <td>166088</td>\n",
       "      <td>108969</td>\n",
       "      <td>2017-06-01</td>\n",
       "      <td>completed</td>\n",
       "      <td>Other</td>\n",
       "    </tr>\n",
       "    <tr>\n",
       "      <th>2</th>\n",
       "      <td>166089</td>\n",
       "      <td>107761</td>\n",
       "      <td>2017-06-01</td>\n",
       "      <td>completed</td>\n",
       "      <td>Phone</td>\n",
       "    </tr>\n",
       "    <tr>\n",
       "      <th>3</th>\n",
       "      <td>166091</td>\n",
       "      <td>77118</td>\n",
       "      <td>2017-06-01</td>\n",
       "      <td>completed</td>\n",
       "      <td>Other</td>\n",
       "    </tr>\n",
       "    <tr>\n",
       "      <th>4</th>\n",
       "      <td>166093</td>\n",
       "      <td>106696</td>\n",
       "      <td>2017-06-01</td>\n",
       "      <td>completed</td>\n",
       "      <td>Other</td>\n",
       "    </tr>\n",
       "  </tbody>\n",
       "</table>\n",
       "</div>"
      ],
      "text/plain": [
       "       id  person_id touch_scheduled_on     status touch_type\n",
       "0  166087     127117         2017-06-01  completed      Phone\n",
       "1  166088     108969         2017-06-01  completed      Other\n",
       "2  166089     107761         2017-06-01  completed      Phone\n",
       "3  166091      77118         2017-06-01  completed      Other\n",
       "4  166093     106696         2017-06-01  completed      Other"
      ]
     },
     "execution_count": 79,
     "metadata": {},
     "output_type": "execute_result"
    }
   ],
   "source": [
    "touches.head()"
   ]
  },
  {
   "cell_type": "markdown",
   "metadata": {},
   "source": [
    "### Question 1. Find the most common industry out of all the companies that were `contacted`."
   ]
  },
  {
   "cell_type": "code",
   "execution_count": 80,
   "metadata": {},
   "outputs": [
    {
     "name": "stdout",
     "output_type": "stream",
     "text": [
      "(3662, 2)\n",
      "The most common industry out of all the companies that were contacted: Internet Software & Services\n"
     ]
    }
   ],
   "source": [
    "# step 1: filter touches table by status = completed and filtered out status that are skipped and reassigned\n",
    "# step 2: inner join touches_completed table with persons table on person_id\n",
    "# step 3: inner join touches_completed_person table with companies table on id\n",
    "\n",
    "\n",
    "touches_completed = touches[touches['status'] == 'completed']\n",
    "touches_completed_persons = pd.merge(touches_completed, persons, left_on = 'person_id', right_on ='id')\n",
    "touches_completed_persons.drop(['id_x', 'id_y'], axis = 1, inplace=True)\n",
    "\n",
    "touches_completed_persons_companies = pd.merge(touches_completed_persons, companies, left_on = 'company_id', right_on ='id')\n",
    "touches_completed_persons_companies.drop(['id'], axis = 1, inplace=True)\n",
    "\n",
    "company_industry = touches_completed_persons_companies[['company_id', 'industry']]\n",
    "unique_company_industry = company_industry.drop_duplicates()\n",
    "\n",
    "print(unique_company_industry[unique_company_industry['industry'] == 'Internet Software & Services'].shape)\n",
    "\n",
    "answer = unique_company_industry.groupby('industry').count().sort_values('company_id').iloc[-1, :].name\n",
    "\n",
    "print(f'The most common industry out of all the companies that were contacted: {answer}')\n"
   ]
  },
  {
   "cell_type": "markdown",
   "metadata": {},
   "source": [
    "### Question 2. What is the most common touch type sellers use when they’re making their first touch with a person? What about first touch with a company?"
   ]
  },
  {
   "cell_type": "code",
   "execution_count": 81,
   "metadata": {},
   "outputs": [
    {
     "name": "stdout",
     "output_type": "stream",
     "text": [
      "Sellers use Other method when they are making their first touch with a person\n"
     ]
    }
   ],
   "source": [
    "touches_users_earliest_date = touches.loc[touches.groupby('person_id').touch_scheduled_on.idxmin()]\n",
    "most_first_touch_with_a_person = touches_users_earliest_date.groupby('touch_type').count().loc[:, 'id'].idxmax()\n",
    "print(f'Sellers use {most_first_touch_with_a_person} method when they are making their first touch with a person')"
   ]
  },
  {
   "cell_type": "code",
   "execution_count": 82,
   "metadata": {},
   "outputs": [
    {
     "name": "stdout",
     "output_type": "stream",
     "text": [
      "Sellers use Other method when they are making their first touch with a company\n"
     ]
    }
   ],
   "source": [
    "touches_companies_earliest_date = touches_completed_persons_companies.loc[touches_completed_persons_companies.groupby('company_id').touch_scheduled_on.idxmin()]\n",
    "most_first_touch_with_a_company = touches_companies_earliest_date.groupby('touch_type').count().loc[:, 'person_id'].idxmax()\n",
    "print(f'Sellers use {most_first_touch_with_a_company} method when they are making their first touch with a company')"
   ]
  },
  {
   "cell_type": "markdown",
   "metadata": {},
   "source": [
    "### Question 3. Describe the distribution of the job seniorities of people that a seller will first try to contact within a company.\n",
    "\n",
    "To answer this question, you may use visuals, graphs, bunch of scores, tables, writeups - whatever you want. We literally want you to \"describe\" the distribution to us in the best way you can!\n",
    "\n",
    "(Note: this question doesn't really have one right answer. It's more about your style of communicating the results.)"
   ]
  },
  {
   "cell_type": "code",
   "execution_count": 83,
   "metadata": {},
   "outputs": [
    {
     "data": {
      "text/plain": [
       "job_seniority\n",
       "Director                  2848\n",
       "Executive                 1300\n",
       "Individual Contributor    1000\n",
       "Manager                   1895\n",
       "Unknown                    517\n",
       "Vice President            2627\n",
       "Name: person_id, dtype: int64"
      ]
     },
     "execution_count": 83,
     "metadata": {},
     "output_type": "execute_result"
    },
    {
     "data": {
      "image/png": "[encoded data removed]",
      "text/plain": [
       "<Figure size 432x288 with 1 Axes>"
      ]
     },
     "metadata": {
      "needs_background": "light"
     },
     "output_type": "display_data"
    }
   ],
   "source": [
    "touches_companies_earliest_date.groupby('job_seniority').size().plot.bar()\n",
    "touches_companies_earliest_date.groupby('job_seniority').count().iloc[:, 0]"
   ]
  },
  {
   "cell_type": "markdown",
   "metadata": {},
   "source": [
    "### Question 4. Describe the distribution of the mixture of job seniorities of people that a seller will touch during the entire engagement with a company.\n",
    "Keep in mind that you get to decide what “mixture” means, so do begin your answer by defining it - and explaining why you think this definition makes sense. Again, feel free to use whatever visuals, graphs, bunch of scores, tables, writeups etc. that you think is appropriate for this question.\n",
    "\n",
    "(Note: this question doesn't really have one right answer. It's more about your style of communicating the results.)"
   ]
  },
  {
   "cell_type": "markdown",
   "metadata": {},
   "source": [
    "## analysis steps\n",
    "1.  Merged all tables together.\n",
    "2.  Created a datafraframe where each row represent a single company and the number of unique people per seniority that are contacted with during the entire engaggement with a company. \n",
    "3.  Dataframe is groupby the \"latest_stage\" class attribute (seven groups),"
   ]
  },
  {
   "cell_type": "code",
   "execution_count": 84,
   "metadata": {},
   "outputs": [
    {
     "data": {
      "text/html": [
       "<div>\n",
       "<style scoped>\n",
       "    .dataframe tbody tr th:only-of-type {\n",
       "        vertical-align: middle;\n",
       "    }\n",
       "\n",
       "    .dataframe tbody tr th {\n",
       "        vertical-align: top;\n",
       "    }\n",
       "\n",
       "    .dataframe thead th {\n",
       "        text-align: right;\n",
       "    }\n",
       "</style>\n",
       "<table border=\"1\" class=\"dataframe\">\n",
       "  <thead>\n",
       "    <tr style=\"text-align: right;\">\n",
       "      <th></th>\n",
       "      <th>person_id</th>\n",
       "      <th>touch_scheduled_on</th>\n",
       "      <th>status</th>\n",
       "      <th>touch_type</th>\n",
       "      <th>company_id</th>\n",
       "      <th>job_seniority</th>\n",
       "      <th>industry</th>\n",
       "      <th>size</th>\n",
       "      <th>location</th>\n",
       "      <th>id</th>\n",
       "      <th>created_at</th>\n",
       "      <th>latest_stage</th>\n",
       "    </tr>\n",
       "  </thead>\n",
       "  <tbody>\n",
       "    <tr>\n",
       "      <th>0</th>\n",
       "      <td>127117</td>\n",
       "      <td>2017-06-01</td>\n",
       "      <td>completed</td>\n",
       "      <td>Phone</td>\n",
       "      <td>3916</td>\n",
       "      <td>Executive</td>\n",
       "      <td>Diversified Telecommunication Services</td>\n",
       "      <td>11-50 employees</td>\n",
       "      <td>US/Eastern</td>\n",
       "      <td>5765</td>\n",
       "      <td>2018-06-19 02:06:25.865923</td>\n",
       "      <td>Disqualified</td>\n",
       "    </tr>\n",
       "    <tr>\n",
       "      <th>1</th>\n",
       "      <td>127117</td>\n",
       "      <td>2017-06-01</td>\n",
       "      <td>completed</td>\n",
       "      <td>Other</td>\n",
       "      <td>3916</td>\n",
       "      <td>Executive</td>\n",
       "      <td>Diversified Telecommunication Services</td>\n",
       "      <td>11-50 employees</td>\n",
       "      <td>US/Eastern</td>\n",
       "      <td>5765</td>\n",
       "      <td>2018-06-19 02:06:25.865923</td>\n",
       "      <td>Disqualified</td>\n",
       "    </tr>\n",
       "    <tr>\n",
       "      <th>2</th>\n",
       "      <td>127117</td>\n",
       "      <td>2017-06-02</td>\n",
       "      <td>completed</td>\n",
       "      <td>Phone</td>\n",
       "      <td>3916</td>\n",
       "      <td>Executive</td>\n",
       "      <td>Diversified Telecommunication Services</td>\n",
       "      <td>11-50 employees</td>\n",
       "      <td>US/Eastern</td>\n",
       "      <td>5765</td>\n",
       "      <td>2018-06-19 02:06:25.865923</td>\n",
       "      <td>Disqualified</td>\n",
       "    </tr>\n",
       "  </tbody>\n",
       "</table>\n",
       "</div>"
      ],
      "text/plain": [
       "   person_id touch_scheduled_on     status touch_type  company_id  \\\n",
       "0     127117         2017-06-01  completed      Phone        3916   \n",
       "1     127117         2017-06-01  completed      Other        3916   \n",
       "2     127117         2017-06-02  completed      Phone        3916   \n",
       "\n",
       "  job_seniority                                industry             size  \\\n",
       "0     Executive  Diversified Telecommunication Services  11-50 employees   \n",
       "1     Executive  Diversified Telecommunication Services  11-50 employees   \n",
       "2     Executive  Diversified Telecommunication Services  11-50 employees   \n",
       "\n",
       "     location    id                  created_at  latest_stage  \n",
       "0  US/Eastern  5765  2018-06-19 02:06:25.865923  Disqualified  \n",
       "1  US/Eastern  5765  2018-06-19 02:06:25.865923  Disqualified  \n",
       "2  US/Eastern  5765  2018-06-19 02:06:25.865923  Disqualified  "
      ]
     },
     "execution_count": 84,
     "metadata": {},
     "output_type": "execute_result"
    }
   ],
   "source": [
    "touches_completed_persons_companies_opportunities = pd.merge(touches_completed_persons_companies, opportunities, left_on = 'company_id', right_on ='company_id')\n",
    "touches_completed_persons_companies_opportunities.head(3)"
   ]
  },
  {
   "cell_type": "code",
   "execution_count": 85,
   "metadata": {},
   "outputs": [
    {
     "name": "stderr",
     "output_type": "stream",
     "text": [
      "/Library/Frameworks/Python.framework/Versions/3.7/lib/python3.7/site-packages/ipykernel_launcher.py:2: SettingWithCopyWarning: \n",
      "A value is trying to be set on a copy of a slice from a DataFrame\n",
      "\n",
      "See the caveats in the documentation: https://pandas.pydata.org/pandas-docs/stable/user_guide/indexing.html#returning-a-view-versus-a-copy\n",
      "  \n"
     ]
    },
    {
     "data": {
      "text/html": [
       "<div>\n",
       "<style scoped>\n",
       "    .dataframe tbody tr th:only-of-type {\n",
       "        vertical-align: middle;\n",
       "    }\n",
       "\n",
       "    .dataframe tbody tr th {\n",
       "        vertical-align: top;\n",
       "    }\n",
       "\n",
       "    .dataframe thead th {\n",
       "        text-align: right;\n",
       "    }\n",
       "</style>\n",
       "<table border=\"1\" class=\"dataframe\">\n",
       "  <thead>\n",
       "    <tr style=\"text-align: right;\">\n",
       "      <th></th>\n",
       "      <th>company_id</th>\n",
       "      <th>job_seniority</th>\n",
       "      <th>person_id</th>\n",
       "    </tr>\n",
       "  </thead>\n",
       "  <tbody>\n",
       "    <tr>\n",
       "      <th>0</th>\n",
       "      <td>1</td>\n",
       "      <td>Director</td>\n",
       "      <td>3</td>\n",
       "    </tr>\n",
       "    <tr>\n",
       "      <th>1</th>\n",
       "      <td>1</td>\n",
       "      <td>Executive</td>\n",
       "      <td>1</td>\n",
       "    </tr>\n",
       "    <tr>\n",
       "      <th>2</th>\n",
       "      <td>1</td>\n",
       "      <td>Individual Contributor</td>\n",
       "      <td>1</td>\n",
       "    </tr>\n",
       "    <tr>\n",
       "      <th>3</th>\n",
       "      <td>1</td>\n",
       "      <td>Manager</td>\n",
       "      <td>2</td>\n",
       "    </tr>\n",
       "    <tr>\n",
       "      <th>4</th>\n",
       "      <td>1</td>\n",
       "      <td>Vice President</td>\n",
       "      <td>2</td>\n",
       "    </tr>\n",
       "  </tbody>\n",
       "</table>\n",
       "</div>"
      ],
      "text/plain": [
       "   company_id           job_seniority  person_id\n",
       "0           1                Director          3\n",
       "1           1               Executive          1\n",
       "2           1  Individual Contributor          1\n",
       "3           1                 Manager          2\n",
       "4           1          Vice President          2"
      ]
     },
     "execution_count": 85,
     "metadata": {},
     "output_type": "execute_result"
    }
   ],
   "source": [
    "companies_seniority = touches_completed_persons_companies_opportunities[[\"person_id\", \"company_id\", \"job_seniority\", \"industry\", \"size\", \"location\", \"latest_stage\"]]\n",
    "companies_seniority.drop_duplicates(inplace=True)\n",
    "companies_seniority = companies_seniority.groupby(['company_id', 'job_seniority']).count().reset_index()\n",
    "companies_seniority = companies_seniority[['company_id', 'job_seniority', 'person_id']]\n",
    "companies_seniority.head(5)\n"
   ]
  },
  {
   "cell_type": "code",
   "execution_count": 86,
   "metadata": {},
   "outputs": [
    {
     "data": {
      "text/html": [
       "<div>\n",
       "<style scoped>\n",
       "    .dataframe tbody tr th:only-of-type {\n",
       "        vertical-align: middle;\n",
       "    }\n",
       "\n",
       "    .dataframe tbody tr th {\n",
       "        vertical-align: top;\n",
       "    }\n",
       "\n",
       "    .dataframe thead th {\n",
       "        text-align: right;\n",
       "    }\n",
       "</style>\n",
       "<table border=\"1\" class=\"dataframe\">\n",
       "  <thead>\n",
       "    <tr style=\"text-align: right;\">\n",
       "      <th></th>\n",
       "      <th>Director</th>\n",
       "      <th>Executive</th>\n",
       "      <th>Individual Contributor</th>\n",
       "      <th>Manager</th>\n",
       "      <th>Vice President</th>\n",
       "      <th>company_id</th>\n",
       "      <th>Unknown</th>\n",
       "    </tr>\n",
       "  </thead>\n",
       "  <tbody>\n",
       "    <tr>\n",
       "      <th>0</th>\n",
       "      <td>3.0</td>\n",
       "      <td>1.0</td>\n",
       "      <td>1.0</td>\n",
       "      <td>2.0</td>\n",
       "      <td>2.0</td>\n",
       "      <td>1</td>\n",
       "      <td>0.0</td>\n",
       "    </tr>\n",
       "    <tr>\n",
       "      <th>0</th>\n",
       "      <td>1.0</td>\n",
       "      <td>2.0</td>\n",
       "      <td>0.0</td>\n",
       "      <td>1.0</td>\n",
       "      <td>0.0</td>\n",
       "      <td>2</td>\n",
       "      <td>0.0</td>\n",
       "    </tr>\n",
       "    <tr>\n",
       "      <th>0</th>\n",
       "      <td>0.0</td>\n",
       "      <td>0.0</td>\n",
       "      <td>0.0</td>\n",
       "      <td>1.0</td>\n",
       "      <td>1.0</td>\n",
       "      <td>4</td>\n",
       "      <td>0.0</td>\n",
       "    </tr>\n",
       "    <tr>\n",
       "      <th>0</th>\n",
       "      <td>2.0</td>\n",
       "      <td>0.0</td>\n",
       "      <td>0.0</td>\n",
       "      <td>1.0</td>\n",
       "      <td>1.0</td>\n",
       "      <td>6</td>\n",
       "      <td>0.0</td>\n",
       "    </tr>\n",
       "    <tr>\n",
       "      <th>0</th>\n",
       "      <td>0.0</td>\n",
       "      <td>0.0</td>\n",
       "      <td>1.0</td>\n",
       "      <td>0.0</td>\n",
       "      <td>0.0</td>\n",
       "      <td>8</td>\n",
       "      <td>0.0</td>\n",
       "    </tr>\n",
       "  </tbody>\n",
       "</table>\n",
       "</div>"
      ],
      "text/plain": [
       "   Director  Executive  Individual Contributor  Manager  Vice President  \\\n",
       "0       3.0        1.0                     1.0      2.0             2.0   \n",
       "0       1.0        2.0                     0.0      1.0             0.0   \n",
       "0       0.0        0.0                     0.0      1.0             1.0   \n",
       "0       2.0        0.0                     0.0      1.0             1.0   \n",
       "0       0.0        0.0                     1.0      0.0             0.0   \n",
       "\n",
       "   company_id  Unknown  \n",
       "0           1      0.0  \n",
       "0           2      0.0  \n",
       "0           4      0.0  \n",
       "0           6      0.0  \n",
       "0           8      0.0  "
      ]
     },
     "execution_count": 86,
     "metadata": {},
     "output_type": "execute_result"
    }
   ],
   "source": [
    "# Convert it to a Dataframe that each row represent a company_id\n",
    "output = pd.DataFrame()\n",
    "\n",
    "for idx, group in companies_seniority.groupby('company_id'):\n",
    "    tmp_df = pd.DataFrame()\n",
    "    tmp_dict= {}\n",
    "    tmp = group.iloc[:, 1:]\n",
    "    tmp.rename(columns={\"person_id\": \"counts\"}, inplace=True)\n",
    "    for j in range(len(tmp)):\n",
    "        tmp_dict[tmp.iloc[j].values[0]] = tmp.iloc[j].values[1]\n",
    "    \n",
    "    \n",
    "    tmp2 = pd.DataFrame.from_dict(tmp_dict, orient='index').T\n",
    "    tmp2['company_id'] = idx\n",
    "    output = pd.concat([output, tmp2])\n",
    "   \n",
    "\n",
    "output.fillna(0, inplace=True)\n",
    "output.head()"
   ]
  },
  {
   "cell_type": "code",
   "execution_count": 87,
   "metadata": {},
   "outputs": [
    {
     "name": "stderr",
     "output_type": "stream",
     "text": [
      "/Library/Frameworks/Python.framework/Versions/3.7/lib/python3.7/site-packages/ipykernel_launcher.py:2: SettingWithCopyWarning: \n",
      "A value is trying to be set on a copy of a slice from a DataFrame\n",
      "\n",
      "See the caveats in the documentation: https://pandas.pydata.org/pandas-docs/stable/user_guide/indexing.html#returning-a-view-versus-a-copy\n",
      "  \n"
     ]
    }
   ],
   "source": [
    "q4_tmp = touches_completed_persons_companies_opportunities[['company_id', 'industry', 'size', 'location', 'latest_stage']]\n",
    "q4_tmp.drop_duplicates(inplace=True)"
   ]
  },
  {
   "cell_type": "code",
   "execution_count": 88,
   "metadata": {},
   "outputs": [
    {
     "data": {
      "text/plain": [
       "company_id                3757.775357\n",
       "Director                     1.814159\n",
       "Executive                    0.627638\n",
       "Individual Contributor       1.181076\n",
       "Manager                      1.268890\n",
       "Vice President               1.353982\n",
       "Unknown                      0.513274\n",
       "dtype: float64"
      ]
     },
     "execution_count": 88,
     "metadata": {},
     "output_type": "execute_result"
    }
   ],
   "source": [
    "# Mixture of job seniorities of people that a seller will touch for a deal was successfully signed\n",
    "q4 = pd.merge(q4_tmp, output, left_on = 'company_id', right_on ='company_id')\n",
    "q4[q4['latest_stage'] == 'Closed Won'].mean(axis=0)"
   ]
  },
  {
   "cell_type": "code",
   "execution_count": 89,
   "metadata": {},
   "outputs": [
    {
     "data": {
      "text/plain": [
       "company_id                4445.536057\n",
       "Director                     2.863276\n",
       "Executive                    0.897457\n",
       "Individual Contributor       0.972905\n",
       "Manager                      1.824510\n",
       "Vice President               2.254273\n",
       "Unknown                      0.421842\n",
       "dtype: float64"
      ]
     },
     "execution_count": 89,
     "metadata": {},
     "output_type": "execute_result"
    }
   ],
   "source": [
    "# Mixture of job seniorities of people that a seller will touch that in the end unsuccessfully.\n",
    "q4[q4['latest_stage'] == 'Closed Lost'].mean(axis=0)"
   ]
  },
  {
   "cell_type": "code",
   "execution_count": 90,
   "metadata": {},
   "outputs": [
    {
     "data": {
      "text/plain": [
       "company_id                4465.315276\n",
       "Director                     2.408451\n",
       "Executive                    0.859155\n",
       "Individual Contributor       0.787649\n",
       "Manager                      1.540628\n",
       "Vice President               2.170098\n",
       "Unknown                      0.395450\n",
       "dtype: float64"
      ]
     },
     "execution_count": 90,
     "metadata": {},
     "output_type": "execute_result"
    }
   ],
   "source": [
    "# Mixture of job seniorities of people that a seller will touch that in the end unsuccessfully.\n",
    "q4[q4['latest_stage'] == 'Disqualified'].mean(axis=0)"
   ]
  },
  {
   "cell_type": "code",
   "execution_count": 91,
   "metadata": {},
   "outputs": [
    {
     "data": {
      "text/plain": [
       "company_id                4046.573770\n",
       "Director                     1.114754\n",
       "Executive                    0.573770\n",
       "Individual Contributor       1.016393\n",
       "Manager                      1.295082\n",
       "Vice President               1.327869\n",
       "Unknown                      0.393443\n",
       "dtype: float64"
      ]
     },
     "execution_count": 91,
     "metadata": {},
     "output_type": "execute_result"
    }
   ],
   "source": [
    "# Mixture of job seniorities of people that a seller will touch with the latest stage that are still in progress.\n",
    "q4[q4['latest_stage'] == 'Developing'].mean(axis=0)"
   ]
  },
  {
   "cell_type": "code",
   "execution_count": 92,
   "metadata": {},
   "outputs": [
    {
     "data": {
      "text/plain": [
       "company_id                3807.000000\n",
       "Director                     2.292683\n",
       "Executive                    0.951220\n",
       "Individual Contributor       4.463415\n",
       "Manager                      2.390244\n",
       "Vice President               1.975610\n",
       "Unknown                      1.512195\n",
       "dtype: float64"
      ]
     },
     "execution_count": 92,
     "metadata": {},
     "output_type": "execute_result"
    }
   ],
   "source": [
    "# Mixture of job seniorities of people that a seller will touch that with the latest stage in SDR open stage.\n",
    "q4[q4['latest_stage'] == 'SDR Open'].mean(axis=0)"
   ]
  },
  {
   "cell_type": "code",
   "execution_count": 93,
   "metadata": {},
   "outputs": [
    {
     "data": {
      "text/plain": [
       "company_id                5280.095890\n",
       "Director                     1.863014\n",
       "Executive                    0.904110\n",
       "Individual Contributor       0.589041\n",
       "Manager                      0.863014\n",
       "Vice President               1.315068\n",
       "Unknown                      0.164384\n",
       "dtype: float64"
      ]
     },
     "execution_count": 93,
     "metadata": {},
     "output_type": "execute_result"
    }
   ],
   "source": [
    "# Mixture of job seniorities of people that a seller will touch with the latest stage in Discovery phase.\n",
    "q4[q4['latest_stage'] == 'Discovery'].mean(axis=0)"
   ]
  },
  {
   "cell_type": "code",
   "execution_count": 94,
   "metadata": {},
   "outputs": [
    {
     "data": {
      "text/plain": [
       "company_id                4481.0\n",
       "Director                     4.0\n",
       "Executive                    0.0\n",
       "Individual Contributor       1.0\n",
       "Manager                      0.0\n",
       "Vice President               0.0\n",
       "Unknown                      0.0\n",
       "dtype: float64"
      ]
     },
     "execution_count": 94,
     "metadata": {},
     "output_type": "execute_result"
    }
   ],
   "source": [
    "# Mixture of job seniorities of people that a seller will touch in contract with the latest stage in negotiation phase.  \n",
    "q4[q4['latest_stage'] == 'Contract Negotiation'].mean(axis=0)"
   ]
  },
  {
   "cell_type": "code",
   "execution_count": null,
   "metadata": {},
   "outputs": [],
   "source": []
  },
  {
   "cell_type": "markdown",
   "metadata": {},
   "source": [
    "### Question 5. Build an algorithm that, when a seller is about to contact a company it never reached out to before, recommends the best/optimal mixture of job seniorities (with “mixture” as defined by you in Question 4.) they should be targeting within that company during the entire engagement.\n",
    "\n",
    "This is the hardest question in this exercise. If you feel you have a good idea what the algorithm should look like but either feel uncomfortable coding-wise or feel pressed for time, it is perfectly OK to describe your idea in words. Be clear, explain both what it does and why you think this is the right approach.\n",
    "\n",
    "Whether or not you go the code-route or writeup-route, be sure to explain the assumptions and choices you made, why you made them and how you would test them.\n",
    "\n",
    "(Note: like with the previous two questions, this question doesn't really have one right answer either!)"
   ]
  },
  {
   "cell_type": "markdown",
   "metadata": {},
   "source": [
    "## Unfortunately, using the features from Q4, I was not able to build a predictive model that is useful"
   ]
  },
  {
   "cell_type": "code",
   "execution_count": 95,
   "metadata": {},
   "outputs": [
    {
     "name": "stderr",
     "output_type": "stream",
     "text": [
      "/Library/Frameworks/Python.framework/Versions/3.7/lib/python3.7/site-packages/ipykernel_launcher.py:3: SettingWithCopyWarning: \n",
      "A value is trying to be set on a copy of a slice from a DataFrame.\n",
      "Try using .loc[row_indexer,col_indexer] = value instead\n",
      "\n",
      "See the caveats in the documentation: https://pandas.pydata.org/pandas-docs/stable/user_guide/indexing.html#returning-a-view-versus-a-copy\n",
      "  This is separate from the ipykernel package so we can avoid doing imports until\n"
     ]
    },
    {
     "data": {
      "text/html": [
       "<div>\n",
       "<style scoped>\n",
       "    .dataframe tbody tr th:only-of-type {\n",
       "        vertical-align: middle;\n",
       "    }\n",
       "\n",
       "    .dataframe tbody tr th {\n",
       "        vertical-align: top;\n",
       "    }\n",
       "\n",
       "    .dataframe thead th {\n",
       "        text-align: right;\n",
       "    }\n",
       "</style>\n",
       "<table border=\"1\" class=\"dataframe\">\n",
       "  <thead>\n",
       "    <tr style=\"text-align: right;\">\n",
       "      <th></th>\n",
       "      <th>company_id</th>\n",
       "      <th>industry</th>\n",
       "      <th>size</th>\n",
       "      <th>location</th>\n",
       "      <th>latest_stage</th>\n",
       "      <th>Director</th>\n",
       "      <th>Executive</th>\n",
       "      <th>Individual Contributor</th>\n",
       "      <th>Manager</th>\n",
       "      <th>Vice President</th>\n",
       "      <th>Unknown</th>\n",
       "      <th>label</th>\n",
       "    </tr>\n",
       "  </thead>\n",
       "  <tbody>\n",
       "    <tr>\n",
       "      <th>0</th>\n",
       "      <td>3916</td>\n",
       "      <td>Diversified Telecommunication Services</td>\n",
       "      <td>11-50 employees</td>\n",
       "      <td>US/Eastern</td>\n",
       "      <td>Disqualified</td>\n",
       "      <td>1.0</td>\n",
       "      <td>1.0</td>\n",
       "      <td>1.0</td>\n",
       "      <td>2.0</td>\n",
       "      <td>1.0</td>\n",
       "      <td>0.0</td>\n",
       "      <td>0</td>\n",
       "    </tr>\n",
       "    <tr>\n",
       "      <th>1</th>\n",
       "      <td>3144</td>\n",
       "      <td>Internet Software &amp; Services</td>\n",
       "      <td>201-500 employees</td>\n",
       "      <td>US/Pacific</td>\n",
       "      <td>Disqualified</td>\n",
       "      <td>3.0</td>\n",
       "      <td>2.0</td>\n",
       "      <td>1.0</td>\n",
       "      <td>6.0</td>\n",
       "      <td>5.0</td>\n",
       "      <td>2.0</td>\n",
       "      <td>0</td>\n",
       "    </tr>\n",
       "    <tr>\n",
       "      <th>2</th>\n",
       "      <td>3079</td>\n",
       "      <td>Internet Software &amp; Services</td>\n",
       "      <td>51-200</td>\n",
       "      <td>US/Eastern</td>\n",
       "      <td>Closed Lost</td>\n",
       "      <td>15.0</td>\n",
       "      <td>1.0</td>\n",
       "      <td>2.0</td>\n",
       "      <td>7.0</td>\n",
       "      <td>3.0</td>\n",
       "      <td>1.0</td>\n",
       "      <td>0</td>\n",
       "    </tr>\n",
       "    <tr>\n",
       "      <th>3</th>\n",
       "      <td>1976</td>\n",
       "      <td>Corporate Services</td>\n",
       "      <td>201-1000</td>\n",
       "      <td>Europe/Istanbul</td>\n",
       "      <td>Closed Lost</td>\n",
       "      <td>8.0</td>\n",
       "      <td>1.0</td>\n",
       "      <td>0.0</td>\n",
       "      <td>2.0</td>\n",
       "      <td>7.0</td>\n",
       "      <td>1.0</td>\n",
       "      <td>0</td>\n",
       "    </tr>\n",
       "    <tr>\n",
       "      <th>4</th>\n",
       "      <td>3045</td>\n",
       "      <td>Internet Software &amp; Services</td>\n",
       "      <td>51-200</td>\n",
       "      <td>US/Pacific</td>\n",
       "      <td>Closed Lost</td>\n",
       "      <td>15.0</td>\n",
       "      <td>1.0</td>\n",
       "      <td>0.0</td>\n",
       "      <td>4.0</td>\n",
       "      <td>5.0</td>\n",
       "      <td>1.0</td>\n",
       "      <td>0</td>\n",
       "    </tr>\n",
       "  </tbody>\n",
       "</table>\n",
       "</div>"
      ],
      "text/plain": [
       "   company_id                                industry               size  \\\n",
       "0        3916  Diversified Telecommunication Services    11-50 employees   \n",
       "1        3144            Internet Software & Services  201-500 employees   \n",
       "2        3079            Internet Software & Services             51-200   \n",
       "3        1976                      Corporate Services           201-1000   \n",
       "4        3045            Internet Software & Services             51-200   \n",
       "\n",
       "          location  latest_stage  Director  Executive  Individual Contributor  \\\n",
       "0       US/Eastern  Disqualified       1.0        1.0                     1.0   \n",
       "1       US/Pacific  Disqualified       3.0        2.0                     1.0   \n",
       "2       US/Eastern   Closed Lost      15.0        1.0                     2.0   \n",
       "3  Europe/Istanbul   Closed Lost       8.0        1.0                     0.0   \n",
       "4       US/Pacific   Closed Lost      15.0        1.0                     0.0   \n",
       "\n",
       "   Manager  Vice President  Unknown  label  \n",
       "0      2.0             1.0      0.0      0  \n",
       "1      6.0             5.0      2.0      0  \n",
       "2      7.0             3.0      1.0      0  \n",
       "3      2.0             7.0      1.0      0  \n",
       "4      4.0             5.0      1.0      0  "
      ]
     },
     "execution_count": 95,
     "metadata": {},
     "output_type": "execute_result"
    }
   ],
   "source": [
    "q5_tmp = q4.copy()\n",
    "q5 = q5_tmp[(q5_tmp['latest_stage'] == 'Closed Won') | (q5_tmp['latest_stage']=='Closed Lost') |  (q5_tmp['latest_stage']=='Disqualified')] \n",
    "q5['label'] = q5.latest_stage.map(lambda v:1 if v == 'Closed Won' else 0)\n",
    "q5.head(5)"
   ]
  },
  {
   "cell_type": "code",
   "execution_count": 96,
   "metadata": {},
   "outputs": [],
   "source": [
    "from sklearn.model_selection import train_test_split\n",
    "from sklearn.model_selection import GridSearchCV\n",
    "from xgboost.sklearn import XGBClassifier\n",
    "from sklearn.pipeline import Pipeline\n",
    "from sklearn.model_selection import cross_val_score\n",
    "\n",
    "X = q5.drop(['industry','company_id', 'size', 'location', 'latest_stage', 'label'], axis=1)\n",
    "y = q5['label']\n",
    "X_train, X_test, y_train, y_test = train_test_split(X, y, test_size=0.2, random_state=40, stratify=y)"
   ]
  },
  {
   "cell_type": "code",
   "execution_count": 97,
   "metadata": {},
   "outputs": [],
   "source": [
    "# from sklearn.compose import ColumnTransformer\n",
    "# from sklearn.preprocessing import OneHotEncoder\n",
    "\n",
    "# transformer = ColumnTransformer(transformers=[('industry', OneHotEncoder(), [3])], remainder='passthrough')\n",
    "# X_train = transformer.fit_transform(X_train)\n",
    "# X_test = transformer.transform(X_test)\n",
    "# X_train.head()"
   ]
  },
  {
   "cell_type": "code",
   "execution_count": 98,
   "metadata": {},
   "outputs": [],
   "source": [
    "pipe = Pipeline([\n",
    "    ('reduce_dim', 'passthrough'),\n",
    "    ('classify', XGBClassifier(random_state=20,objective= 'binary:logistic'))\n",
    "])\n",
    "\n",
    "param_grid = [\n",
    "    {\n",
    "        'classify__eta': [0.05, 0.10, 0.15, 0.20, 0.25, 0.30],\n",
    "        'classify__max_depth': [ 3, 4, 5, 6]\n",
    "    },  \n",
    "]"
   ]
  },
  {
   "cell_type": "code",
   "execution_count": 99,
   "metadata": {},
   "outputs": [
    {
     "name": "stderr",
     "output_type": "stream",
     "text": [
      "/Library/Frameworks/Python.framework/Versions/3.7/lib/python3.7/site-packages/xgboost/sklearn.py:1146: UserWarning: The use of label encoder in XGBClassifier is deprecated and will be removed in a future release. To remove this warning, do the following: 1) Pass option use_label_encoder=False when constructing XGBClassifier object; and 2) Encode your labels (y) as integers starting with 0, i.e. 0, 1, 2, ..., [num_class - 1].\n",
      "  warnings.warn(label_encoder_deprecation_msg, UserWarning)\n"
     ]
    },
    {
     "name": "stdout",
     "output_type": "stream",
     "text": [
      "[21:57:25] WARNING: /Users/travis/build/dmlc/xgboost/src/learner.cc:1095: Starting in XGBoost 1.3.0, the default evaluation metric used with the objective 'binary:logistic' was changed from 'error' to 'logloss'. Explicitly set eval_metric if you'd like to restore the old behavior.\n"
     ]
    },
    {
     "name": "stderr",
     "output_type": "stream",
     "text": [
      "/Library/Frameworks/Python.framework/Versions/3.7/lib/python3.7/site-packages/xgboost/sklearn.py:1146: UserWarning: The use of label encoder in XGBClassifier is deprecated and will be removed in a future release. To remove this warning, do the following: 1) Pass option use_label_encoder=False when constructing XGBClassifier object; and 2) Encode your labels (y) as integers starting with 0, i.e. 0, 1, 2, ..., [num_class - 1].\n",
      "  warnings.warn(label_encoder_deprecation_msg, UserWarning)\n"
     ]
    },
    {
     "name": "stdout",
     "output_type": "stream",
     "text": [
      "[21:57:33] WARNING: /Users/travis/build/dmlc/xgboost/src/learner.cc:1095: Starting in XGBoost 1.3.0, the default evaluation metric used with the objective 'binary:logistic' was changed from 'error' to 'logloss'. Explicitly set eval_metric if you'd like to restore the old behavior.\n"
     ]
    },
    {
     "name": "stderr",
     "output_type": "stream",
     "text": [
      "/Library/Frameworks/Python.framework/Versions/3.7/lib/python3.7/site-packages/xgboost/sklearn.py:1146: UserWarning: The use of label encoder in XGBClassifier is deprecated and will be removed in a future release. To remove this warning, do the following: 1) Pass option use_label_encoder=False when constructing XGBClassifier object; and 2) Encode your labels (y) as integers starting with 0, i.e. 0, 1, 2, ..., [num_class - 1].\n",
      "  warnings.warn(label_encoder_deprecation_msg, UserWarning)\n"
     ]
    },
    {
     "name": "stdout",
     "output_type": "stream",
     "text": [
      "[21:57:41] WARNING: /Users/travis/build/dmlc/xgboost/src/learner.cc:1095: Starting in XGBoost 1.3.0, the default evaluation metric used with the objective 'binary:logistic' was changed from 'error' to 'logloss'. Explicitly set eval_metric if you'd like to restore the old behavior.\n"
     ]
    },
    {
     "name": "stderr",
     "output_type": "stream",
     "text": [
      "/Library/Frameworks/Python.framework/Versions/3.7/lib/python3.7/site-packages/xgboost/sklearn.py:1146: UserWarning: The use of label encoder in XGBClassifier is deprecated and will be removed in a future release. To remove this warning, do the following: 1) Pass option use_label_encoder=False when constructing XGBClassifier object; and 2) Encode your labels (y) as integers starting with 0, i.e. 0, 1, 2, ..., [num_class - 1].\n",
      "  warnings.warn(label_encoder_deprecation_msg, UserWarning)\n"
     ]
    },
    {
     "name": "stdout",
     "output_type": "stream",
     "text": [
      "[21:57:49] WARNING: /Users/travis/build/dmlc/xgboost/src/learner.cc:1095: Starting in XGBoost 1.3.0, the default evaluation metric used with the objective 'binary:logistic' was changed from 'error' to 'logloss'. Explicitly set eval_metric if you'd like to restore the old behavior.\n"
     ]
    },
    {
     "name": "stderr",
     "output_type": "stream",
     "text": [
      "/Library/Frameworks/Python.framework/Versions/3.7/lib/python3.7/site-packages/xgboost/sklearn.py:1146: UserWarning: The use of label encoder in XGBClassifier is deprecated and will be removed in a future release. To remove this warning, do the following: 1) Pass option use_label_encoder=False when constructing XGBClassifier object; and 2) Encode your labels (y) as integers starting with 0, i.e. 0, 1, 2, ..., [num_class - 1].\n",
      "  warnings.warn(label_encoder_deprecation_msg, UserWarning)\n"
     ]
    },
    {
     "name": "stdout",
     "output_type": "stream",
     "text": [
      "[21:57:56] WARNING: /Users/travis/build/dmlc/xgboost/src/learner.cc:1095: Starting in XGBoost 1.3.0, the default evaluation metric used with the objective 'binary:logistic' was changed from 'error' to 'logloss'. Explicitly set eval_metric if you'd like to restore the old behavior.\n"
     ]
    },
    {
     "name": "stderr",
     "output_type": "stream",
     "text": [
      "/Library/Frameworks/Python.framework/Versions/3.7/lib/python3.7/site-packages/xgboost/sklearn.py:1146: UserWarning: The use of label encoder in XGBClassifier is deprecated and will be removed in a future release. To remove this warning, do the following: 1) Pass option use_label_encoder=False when constructing XGBClassifier object; and 2) Encode your labels (y) as integers starting with 0, i.e. 0, 1, 2, ..., [num_class - 1].\n",
      "  warnings.warn(label_encoder_deprecation_msg, UserWarning)\n"
     ]
    },
    {
     "name": "stdout",
     "output_type": "stream",
     "text": [
      "[21:58:05] WARNING: /Users/travis/build/dmlc/xgboost/src/learner.cc:1095: Starting in XGBoost 1.3.0, the default evaluation metric used with the objective 'binary:logistic' was changed from 'error' to 'logloss'. Explicitly set eval_metric if you'd like to restore the old behavior.\n",
      "The optimal eta: 0.1\n",
      "The optimal max_depth: 3.0\n",
      "XGB Train CV ROC AUC: 0.645 +/- 0.022\n"
     ]
    }
   ],
   "source": [
    "gs_xgb = GridSearchCV(estimator = pipe, cv = 2, n_jobs=-1, param_grid = param_grid, scoring = 'roc_auc')\n",
    "xgb_scores = cross_val_score(gs_xgb, X_train, y_train, scoring='roc_auc', cv=5)\n",
    "\n",
    "gs_xgb.fit(X_train, y_train)\n",
    "\n",
    "print('The optimal eta: %.1f' %(gs_xgb.best_params_['classify__eta']))\n",
    "print('The optimal max_depth: %.1f' %(gs_xgb.best_params_['classify__max_depth']))\n",
    "print('XGB Train CV ROC AUC: %.3f +/- %.3f' %(np.mean(xgb_scores), np.std(xgb_scores)))"
   ]
  },
  {
   "cell_type": "code",
   "execution_count": 100,
   "metadata": {},
   "outputs": [
    {
     "name": "stdout",
     "output_type": "stream",
     "text": [
      "Precision Train: 0.732 for XGBoost\n",
      "Recall Train: 0.060 for XGBoost\n",
      "F1 Train: 0.112 for XGBoost\n",
      "ROC AUC Train: 0.525 for XGBoost\n",
      "Confusion matrix (Train):\n",
      "[[2631   26]\n",
      " [1104   71]]\n"
     ]
    }
   ],
   "source": [
    "from sklearn.metrics import roc_auc_score, f1_score, precision_score, recall_score, confusion_matrix\n",
    "\n",
    "y_pred_xgb = gs_xgb.predict(X_train)\n",
    "print('Precision Train: %.3f for XGBoost' % precision_score(y_train, y_pred_xgb))\n",
    "print('Recall Train: %.3f for XGBoost' % recall_score(y_train, y_pred_xgb))\n",
    "print('F1 Train: %.3f for XGBoost' % f1_score(y_train, y_pred_xgb))\n",
    "print('ROC AUC Train: %.3f for XGBoost' % roc_auc_score(y_train, y_pred_xgb))\n",
    "print('Confusion matrix (Train):')\n",
    "print(confusion_matrix(y_train, y_pred_xgb))\n",
    "                     "
   ]
  },
  {
   "cell_type": "code",
   "execution_count": 101,
   "metadata": {},
   "outputs": [
    {
     "name": "stdout",
     "output_type": "stream",
     "text": [
      "Precision Train: 0.367 for XGBoost\n",
      "Recall Train: 0.037 for XGBoost\n",
      "F1 Train: 0.068 for XGBoost\n",
      "ROC AUC Train: 0.504 for XGBoost\n",
      "Confusion matrix (Train):\n",
      "[[646  19]\n",
      " [283  11]]\n"
     ]
    }
   ],
   "source": [
    "y_pred_xgb = gs_xgb.predict(X_test)\n",
    "print('Precision Train: %.3f for XGBoost' % precision_score(y_test, y_pred_xgb))\n",
    "print('Recall Train: %.3f for XGBoost' % recall_score(y_test, y_pred_xgb))\n",
    "print('F1 Train: %.3f for XGBoost' % f1_score(y_test, y_pred_xgb))\n",
    "print('ROC AUC Train: %.3f for XGBoost' % roc_auc_score(y_test, y_pred_xgb))\n",
    "print('Confusion matrix (Train):')\n",
    "print(confusion_matrix(y_test, y_pred_xgb))"
   ]
  },
  {
   "cell_type": "code",
   "execution_count": null,
   "metadata": {},
   "outputs": [],
   "source": []
  }
 ],
 "metadata": {
  "kernelspec": {
   "display_name": "Python 3",
   "language": "python",
   "name": "python3"
  },
  "language_info": {
   "codemirror_mode": {
    "name": "ipython",
    "version": 3
   },
   "file_extension": ".py",
   "mimetype": "text/x-python",
   "name": "python",
   "nbconvert_exporter": "python",
   "pygments_lexer": "ipython3",
   "version": "3.7.6"
  }
 },
 "nbformat": 4,
 "nbformat_minor": 2
}
